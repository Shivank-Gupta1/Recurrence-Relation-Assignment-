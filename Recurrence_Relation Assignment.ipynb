{
 "cells": [
  {
   "cell_type": "code",
   "execution_count": 1,
   "id": "8eb8ec66-3cd0-4a08-97a7-90c70c69847a",
   "metadata": {},
   "outputs": [],
   "source": [
    "##1.Find the value of T(2) for the recurrence relation T(n) = 3T(n-1) + 12n, given that T(0)=5."
   ]
  },
  {
   "cell_type": "raw",
   "id": "7501bba2-f011-4921-b188-fd5fcca0a4f3",
   "metadata": {},
   "source": [
    "To find the vaue of T(2) for the recurrence relation.\n",
    "\n",
    "T(n)=3T(n-1) +12n\n",
    "\n",
    "T(0)=5\n",
    "\n",
    "T(1)=3T(1-1) + 12*1\n",
    "T(1)=3T(0) + 12\n",
    "T(1)=3*5 +12\n",
    "T(1)=27\n",
    "\n",
    "\n",
    "T(2)=3T(2-1) + 12*2\n",
    "T(2)=3T(1) + 24\n",
    "T(2)=3*27 +24\n",
    "T(2)=81+24\n",
    "\n",
    "T(2)=105"
   ]
  },
  {
   "cell_type": "raw",
   "id": "758f673b-afe2-4cae-8bf5-49f3fc585ee8",
   "metadata": {},
   "source": [
    "##2. Given a recurrence relation, solve it using the substitution method:\n",
    "a. T(n) = T(n-1) + c\n",
    "b. T(n) = 2T(n/2) + n\n",
    "c. T(n) = 2T(n/2) + c\n",
    "d. T(n) = T(n/2) + c"
   ]
  },
  {
   "cell_type": "raw",
   "id": "85547827-a4fd-4b4d-8a8b-13fa6c5eeca5",
   "metadata": {},
   "source": [
    "a. T(n) = T(n-1) + c\n",
    "\n",
    "T(n)=T(n-1)+c\n",
    "T(n-1)=T(n-2)+c\n",
    "T(n-2)=T(n-3)+2c\n",
    "T(n-3)=T(n-4)+3c\n",
    "\n",
    "T(n)=T(n-K) + Kc\n",
    "T(n)=T(n-n+1) + Kc\n",
    "T(n)=T(1) + (n-1)c\n",
    "T(n)=1+nc-c\n",
    "T(n)=n\n",
    "\n",
    "Time Complexity - O(n)"
   ]
  },
  {
   "cell_type": "raw",
   "id": "ba008d7a-4e57-4920-87f4-a361803f3ac5",
   "metadata": {},
   "source": [
    "b.T(n) = 2T(n/2) + n\n",
    "\n",
    "T(n) = 2T(n/2) + n\n",
    "T(n/2) = 2T(n/4) + n/2\n",
    "T(n) = 2 (2T(n/4) + n/2 ) + n\n",
    "T(n) = 4T(n/4) + 3n/2\n",
    "T(n/4)=2T(n/8) + n/4\n",
    "T(n)=4(2T(n/8) + n/4) + 3n/2 \n",
    "T(n)= 8T(n/8) + n + 3n/2\n",
    "T(n)= 8T(n/8) + 5n/2\n",
    "\n",
    "\n",
    "T(n)= 2^k T(n/2^k) + (2^(k-1)+1)\n",
    " if n/2^k=1\n",
    " k=log(n) (Base 2)\n",
    "\n",
    "T(n)=2^logn*T(n/2^logn) + (2^(logn-1)+1)\n",
    "T(n)= Constant + c.2^logn + 1\n",
    "\n",
    "Time Complexity = O (log n)\n",
    "Sapce complexity = 0(log n)"
   ]
  },
  {
   "cell_type": "raw",
   "id": "3af8bf2e-130c-41fa-b813-5ac44542f611",
   "metadata": {},
   "source": [
    "c. T(n) = 2T(n/2) + c\n",
    "\n",
    "\n",
    "T(n) = 2T(n/2) + c\n",
    "T(n/2) = 2T(n/4) + c\n",
    "T(n) = 2 (2T(n/4) + c ) + c\n",
    "T(n) = 4T(n/4) + 3c\n",
    "T(n/4)=2T(n/8) + c\n",
    "T(n)=4(2T(n/8) + c) + 3c\n",
    "T(n)= 8T(n/8) + 4c + 3c\n",
    "T(n)= 8T(n/8) + 7c\n",
    "\n",
    "\n",
    "T(n)= 2^k (n/2^k) + (2^k-1)c\n",
    " if n/2^k=1\n",
    " k=log(n) (Base 2)\n",
    "\n",
    "T(n)=2^logn*T(n/2^logn) + (2^logn-1)c\n",
    "T(n)= Constant + c.2^logn - c \n",
    "\n",
    "O(n)=log n base 2\n",
    "\n",
    "Sapce complexity = 0(log n)\n"
   ]
  },
  {
   "cell_type": "raw",
   "id": "69dab211-050f-40a8-93c6-c96db392cd8c",
   "metadata": {},
   "source": [
    "d. T(n) = T(n/2) + c\n",
    "\n",
    "\n",
    "\n",
    "T(n) = T(n/2) + c\n",
    "T(n/2) = T(n/4) + c\n",
    "T(n) = T(n/4) + c + c\n",
    "T(n) = T(n/4) + 2c\n",
    "T(n/4)= T(n/8) + c\n",
    "T(n)=T(n/8) + c + 2c\n",
    "T(n)= T(n/8) + 3c\n",
    "T(n)= T(n/8) + 3c\n",
    "\n",
    "\n",
    "T(n)= T(n/2^k) + kc\n",
    " if n/2^k=1\n",
    " k=log(n) (Base 2)\n",
    "\n",
    "T(n)= T(n/2^logn) + (logn)c\n",
    "T(n)= Constant + c.logn \n",
    "\n",
    "O(n)=log n base 2\n",
    "\n",
    "Sapce complexity = 0(log n)\n"
   ]
  }
 ],
 "metadata": {
  "kernelspec": {
   "display_name": "Python 3 (ipykernel)",
   "language": "python",
   "name": "python3"
  },
  "language_info": {
   "codemirror_mode": {
    "name": "ipython",
    "version": 3
   },
   "file_extension": ".py",
   "mimetype": "text/x-python",
   "name": "python",
   "nbconvert_exporter": "python",
   "pygments_lexer": "ipython3",
   "version": "3.10.8"
  }
 },
 "nbformat": 4,
 "nbformat_minor": 5
}
